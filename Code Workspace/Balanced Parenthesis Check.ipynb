{
 "cells": [
  {
   "cell_type": "code",
   "execution_count": 37,
   "metadata": {},
   "outputs": [],
   "source": [
    "def validateBracets(brackets):\n",
    "    mystack = []  #we will use stack\n",
    "    for i in brackets:\n",
    "        if i in [\"[\",\"{\",\"(\"]:   \n",
    "            mystack.append(i)\n",
    "            continue\n",
    "\n",
    "        counterBracket = \"\"\n",
    "        if i == ')':            \n",
    "            counterBracket = '('\n",
    "        if i == ']':\n",
    "            counterBracket = '['\n",
    "        if i == '}':\n",
    "            counterBracket = '{'\n",
    "\n",
    "        if mystack[-1] == counterBracket:\n",
    "            mystack.pop()\n",
    "            continue\n",
    "        else:\n",
    "            return False\n",
    "\n",
    "    if len(mystack) == 0:\n",
    "        return True\n",
    "    return False"
   ]
  },
  {
   "cell_type": "code",
   "execution_count": 38,
   "metadata": {},
   "outputs": [
    {
     "name": "stdout",
     "output_type": "stream",
     "text": [
      "False\n",
      "True\n"
     ]
    }
   ],
   "source": [
    "print(validateBracets('()(){]}'))\n",
    "print(validateBracets('[](){([[[]]])}'))"
   ]
  },
  {
   "cell_type": "code",
   "execution_count": null,
   "metadata": {},
   "outputs": [],
   "source": []
  }
 ],
 "metadata": {
  "kernelspec": {
   "display_name": "Python 3",
   "language": "python",
   "name": "python3"
  },
  "language_info": {
   "codemirror_mode": {
    "name": "ipython",
    "version": 3
   },
   "file_extension": ".py",
   "mimetype": "text/x-python",
   "name": "python",
   "nbconvert_exporter": "python",
   "pygments_lexer": "ipython3",
   "version": "3.7.6"
  }
 },
 "nbformat": 4,
 "nbformat_minor": 4
}
