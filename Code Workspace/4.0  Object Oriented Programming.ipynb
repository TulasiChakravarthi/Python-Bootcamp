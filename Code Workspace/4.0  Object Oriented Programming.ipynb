{
 "cells": [
  {
   "cell_type": "code",
   "execution_count": 1,
   "metadata": {},
   "outputs": [],
   "source": [
    "class Sample():\n",
    "    pass"
   ]
  },
  {
   "cell_type": "code",
   "execution_count": 2,
   "metadata": {},
   "outputs": [],
   "source": [
    "s1=Sample()"
   ]
  },
  {
   "cell_type": "code",
   "execution_count": 3,
   "metadata": {},
   "outputs": [
    {
     "data": {
      "text/plain": [
       "__main__.Sample"
      ]
     },
     "execution_count": 3,
     "metadata": {},
     "output_type": "execute_result"
    }
   ],
   "source": [
    "type(s1)"
   ]
  },
  {
   "cell_type": "code",
   "execution_count": 32,
   "metadata": {},
   "outputs": [],
   "source": [
    "class Dog():\n",
    "    #class level attribute-same for all instance\n",
    "    species = 'mammal'\n",
    "    \n",
    "    #constructor body\n",
    "    def __init__(self,name,spots,age):\n",
    "        self.name=name\n",
    "        self.spots=spots\n",
    "        self.age=age\n",
    "        \n",
    "    #fn inside class called as method\n",
    "    def bark(self,number):\n",
    "        print(f'Woof! my name is {self.name} and the no is {number}')"
   ]
  },
  {
   "cell_type": "code",
   "execution_count": 33,
   "metadata": {},
   "outputs": [],
   "source": [
    "my_dog1=Dog(age='4',name='max',spots=False) #order does not matter if name is given\n",
    "\n",
    "my_dog2=Dog('baax',False,3) #matters when name not given\n",
    "\n",
    "#do datatype check"
   ]
  },
  {
   "cell_type": "code",
   "execution_count": 42,
   "metadata": {},
   "outputs": [
    {
     "name": "stdout",
     "output_type": "stream",
     "text": [
      "3 max False mammal\n",
      "baax\n"
     ]
    }
   ],
   "source": [
    "print(f'{my_dog2.age} {my_dog1.name} {my_dog2.spots} {my_dog1.species}')\n",
    "print(my_dog2.name)"
   ]
  },
  {
   "cell_type": "code",
   "execution_count": 35,
   "metadata": {},
   "outputs": [
    {
     "name": "stdout",
     "output_type": "stream",
     "text": [
      "Woof! my name is max and the no is 7\n"
     ]
    }
   ],
   "source": [
    "my_dog1.bark(7)"
   ]
  },
  {
   "cell_type": "code",
   "execution_count": 54,
   "metadata": {},
   "outputs": [],
   "source": [
    "class Circle():\n",
    "    pi=3.14\n",
    "    \n",
    "    def __init__(self,radius=1):\n",
    "        self.radius=radius\n",
    "        self.area=radius*radius*self.pi\n",
    "        \n",
    "    def get_circumference(self):\n",
    "        return 2*self.pi*self.radius"
   ]
  },
  {
   "cell_type": "code",
   "execution_count": 55,
   "metadata": {},
   "outputs": [],
   "source": [
    "my_circle=Circle(100)"
   ]
  },
  {
   "cell_type": "code",
   "execution_count": 56,
   "metadata": {},
   "outputs": [
    {
     "data": {
      "text/plain": [
       "628.0"
      ]
     },
     "execution_count": 56,
     "metadata": {},
     "output_type": "execute_result"
    }
   ],
   "source": [
    "my_circle.get_circumference()"
   ]
  },
  {
   "cell_type": "code",
   "execution_count": 57,
   "metadata": {},
   "outputs": [
    {
     "data": {
      "text/plain": [
       "31400.0"
      ]
     },
     "execution_count": 57,
     "metadata": {},
     "output_type": "execute_result"
    }
   ],
   "source": [
    "my_circle.area"
   ]
  },
  {
   "cell_type": "code",
   "execution_count": 35,
   "metadata": {},
   "outputs": [],
   "source": [
    "class Student():\n",
    "    #class level attribute -same for all instances\n",
    "    city='Ujjain'\n",
    "    \n",
    "    #constructor body\n",
    "    def __init__(self,name='None',subject1='None',subject2='None',hostler=False):\n",
    "        self.name=name\n",
    "        self.subject1=subject1\n",
    "        self.subject2=subject2\n",
    "        self.hostler=hostler\n",
    "    \n",
    "    #fn inside class called as method\n",
    "    def calculate_grade(self,score1=50,score2=50):\n",
    "        sum=score1+score2\n",
    "        return (f' {self.name} has score {sum/2}')\n",
    "        "
   ]
  },
  {
   "cell_type": "code",
   "execution_count": 36,
   "metadata": {},
   "outputs": [],
   "source": [
    "manu=Student('manu','PCM','PE',False)                   #order does not matter if name is given\n",
    "tanu=Student(subject2='IP',name='tanu',subject1='PCM',hostler=True)#matters when name not given\n",
    "#no datatype match"
   ]
  },
  {
   "cell_type": "code",
   "execution_count": 37,
   "metadata": {},
   "outputs": [
    {
     "name": "stdout",
     "output_type": "stream",
     "text": [
      "Ujjain\n",
      "False\n"
     ]
    }
   ],
   "source": [
    "print(tanu.city)\n",
    "print(manu.hostler)"
   ]
  },
  {
   "cell_type": "code",
   "execution_count": 38,
   "metadata": {},
   "outputs": [
    {
     "name": "stdout",
     "output_type": "stream",
     "text": [
      " manu has score 98.0\n",
      " tanu has score 90.0\n"
     ]
    }
   ],
   "source": [
    "print(manu.calculate_grade(96,100))\n",
    "print(tanu.calculate_grade(86,94))"
   ]
  },
  {
   "cell_type": "code",
   "execution_count": null,
   "metadata": {},
   "outputs": [],
   "source": []
  }
 ],
 "metadata": {
  "kernelspec": {
   "display_name": "Python 3",
   "language": "python",
   "name": "python3"
  },
  "language_info": {
   "codemirror_mode": {
    "name": "ipython",
    "version": 3
   },
   "file_extension": ".py",
   "mimetype": "text/x-python",
   "name": "python",
   "nbconvert_exporter": "python",
   "pygments_lexer": "ipython3",
   "version": "3.7.6"
  }
 },
 "nbformat": 4,
 "nbformat_minor": 4
}
