{
 "cells": [
  {
   "cell_type": "markdown",
   "metadata": {},
   "source": [
    "# Guessing Game Challenge\n",
    "\n",
    "Let's use `while` loops to create a guessing game.\n",
    "\n",
    "The Challenge:\n",
    "\n",
    "Write a program that picks a random integer from 1 to 100, and has players guess the number. The rules are:\n",
    "\n",
    "1. If a player's guess is less than 1 or greater than 100, say \"OUT OF BOUNDS\"\n",
    "2. On a player's first turn, if their guess is\n",
    " * within 10 of the number, return \"WARM!\"\n",
    " * further than 10 away from the number, return \"COLD!\"\n",
    "3. On all subsequent turns, if a guess is \n",
    " * closer to the number than the previous guess return \"WARMER!\"\n",
    " * farther from the number than the previous guess, return \"COLDER!\"\n",
    "4. When the player's guess equals the number, tell them they've guessed correctly *and* how many guesses it took!\n",
    "\n",
    "You can try this from scratch, or follow the steps outlined below. A separate Solution notebook has been provided. Good luck!\n"
   ]
  },
  {
   "cell_type": "markdown",
   "metadata": {},
   "source": [
    "#### First, pick a random integer from 1 to 100 using the random module and assign it to a variable\n",
    "\n",
    "Note: `random.randint(a,b)` returns a random integer in range `[a, b]`, including both end points."
   ]
  },
  {
   "cell_type": "code",
   "execution_count": 2,
   "metadata": {},
   "outputs": [
    {
     "data": {
      "text/plain": [
       "56"
      ]
     },
     "execution_count": 2,
     "metadata": {},
     "output_type": "execute_result"
    }
   ],
   "source": [
    "from random import randint\n",
    "num=randint(0,101)\n",
    "num"
   ]
  },
  {
   "cell_type": "markdown",
   "metadata": {},
   "source": [
    "#### Next, print an introduction to the game and explain the rules"
   ]
  },
  {
   "cell_type": "markdown",
   "metadata": {},
   "source": [
    "you have to guess the correct number"
   ]
  },
  {
   "cell_type": "markdown",
   "metadata": {},
   "source": [
    "RULES ARE:"
   ]
  },
  {
   "cell_type": "markdown",
   "metadata": {},
   "source": [
    "1.number must be between 1-100\n"
   ]
  },
  {
   "cell_type": "markdown",
   "metadata": {},
   "source": [
    "2.when if your guess is\n",
    "within 10 of the number, hint- \"WARM!\"\n",
    "further than 10 away from the number, hint- \"COLD!\""
   ]
  },
  {
   "cell_type": "markdown",
   "metadata": {},
   "source": [
    "3. On all subsequent turns, if your guess is\n",
    "closer to the number than the previous guess hint- \"WARMER!\"\n",
    "farther from the number than the previous guess, hint-\"COLDER!\""
   ]
  },
  {
   "cell_type": "markdown",
   "metadata": {},
   "source": [
    "#### Create a list to store guesses\n",
    "\n",
    "Hint: zero is a good placeholder value. It's useful because it evaluates to \"False\""
   ]
  },
  {
   "cell_type": "code",
   "execution_count": 3,
   "metadata": {},
   "outputs": [],
   "source": [
    "guess_list=[]\n"
   ]
  },
  {
   "cell_type": "markdown",
   "metadata": {},
   "source": [
    "#### Write a `while` loop that asks for a valid guess. Test it a few times to make sure it works."
   ]
  },
  {
   "cell_type": "code",
   "execution_count": 4,
   "metadata": {},
   "outputs": [
    {
     "name": "stdout",
     "output_type": "stream",
     "text": [
      "enter a number between 1-10077\n",
      "valid entry\n"
     ]
    }
   ],
   "source": [
    "while True:\n",
    "    a=''\n",
    "    a = input('enter a number between 1-100')\n",
    "    if int(a)>=1 and int(a)<=100:\n",
    "        guess_list.append(int(a))\n",
    "        print('valid entry')\n",
    "        break\n",
    "    else:\n",
    "        print('num is out of bounds,please enter again')\n",
    "        pass"
   ]
  },
  {
   "cell_type": "markdown",
   "metadata": {},
   "source": [
    "#### Write a `while` loop that compares the player's guess to our number. If the player guesses correctly, break from the loop. Otherwise, tell the player if they're warmer or colder, and continue asking for guesses.\n",
    "\n",
    "Some hints:\n",
    "* it may help to sketch out all possible combinations on paper first!\n",
    "* you can use the `abs()` function to find the positive difference between two numbers\n",
    "* if you append all new guesses to the list, then the previous guess is given as `guesses[-2]`"
   ]
  },
  {
   "cell_type": "code",
   "execution_count": null,
   "metadata": {},
   "outputs": [
    {
     "name": "stdout",
     "output_type": "stream",
     "text": [
      "89\n",
      "enter a number between 1-100 \n",
      "150\n",
      "num is out of bounds,please enter again \n",
      "\n",
      "enter a number between 1-100 \n",
      "-60\n",
      "num is out of bounds,please enter again \n",
      "\n",
      "enter a number between 1-100 \n",
      "70\n",
      "enter a number between 1-100 \n",
      "89\n"
     ]
    }
   ],
   "source": [
    "from random import randint\n",
    "num=randint(0,101)\n",
    "print(num)\n",
    "\n",
    "guess_list=[]\n",
    "  \n",
    "while True:\n",
    "    \n",
    "    a = input('enter a number between 1-100 \\n')\n",
    "    if int(a)>=1 and int(a)<=100:\n",
    "        guess_list.append(int(a))\n",
    "\n",
    "    else:\n",
    "        print('num is out of bounds,please enter again \\n')\n",
    "    continue \n",
    "\n",
    "    if guess_list[-1]==num:\n",
    "        print('you guessed it!')\n",
    "        break\n",
    "    elif abs(guess_list[0]-num) <=10 and len(guess_list) == 1:\n",
    "        print('WARM')\n",
    "    elif len(guess_list) == 1:\n",
    "        print('COLD')\n",
    "    else:\n",
    "        if abs(num-guess_list[-2]) > abs(num-guess_list[-1]):\n",
    "            print(\"Warmer\")\n",
    "        else:\n",
    "            print(\"Colder\")\n",
    "\n",
    "\n",
    "print(\"Game over!\")\n"
   ]
  },
  {
   "cell_type": "markdown",
   "metadata": {},
   "source": [
    "That's it! You've just programmed your first game!\n",
    "\n",
    "In the next section we'll learn how to turn some of these repetitive actions into *functions* that can be called whenever we need them."
   ]
  },
  {
   "cell_type": "markdown",
   "metadata": {},
   "source": [
    "### Good Job!"
   ]
  }
 ],
 "metadata": {
  "kernelspec": {
   "display_name": "Python 3",
   "language": "python",
   "name": "python3"
  },
  "language_info": {
   "codemirror_mode": {
    "name": "ipython",
    "version": 3
   },
   "file_extension": ".py",
   "mimetype": "text/x-python",
   "name": "python",
   "nbconvert_exporter": "python",
   "pygments_lexer": "ipython3",
   "version": "3.7.6"
  }
 },
 "nbformat": 4,
 "nbformat_minor": 2
}
