{
 "cells": [
  {
   "cell_type": "markdown",
   "metadata": {},
   "source": [
    "## Regular Expressions(RegEx)"
   ]
  },
  {
   "cell_type": "code",
   "execution_count": 3,
   "metadata": {},
   "outputs": [
    {
     "name": "stdout",
     "output_type": "stream",
     "text": [
      "True\n"
     ]
    }
   ],
   "source": [
    "#genral case:\n",
    "text= 'my name is bob'\n",
    "\n",
    "print('bob' in text)"
   ]
  },
  {
   "cell_type": "code",
   "execution_count": 6,
   "metadata": {},
   "outputs": [],
   "source": [
    "#with re module\n",
    "import re\n",
    "\n",
    "text=\"hello, your agent's num is 444-5544-5050. call his num soon!\"\n",
    "pattern = 'your'"
   ]
  },
  {
   "cell_type": "markdown",
   "metadata": {},
   "source": [
    "### search( ) -- case when pattern is found -- we are storing the result in varibale k1"
   ]
  },
  {
   "cell_type": "code",
   "execution_count": 9,
   "metadata": {},
   "outputs": [
    {
     "name": "stdout",
     "output_type": "stream",
     "text": [
      "<re.Match object; span=(7, 11), match='your'>\n"
     ]
    }
   ],
   "source": [
    "#search will return first occourance of pattern\n",
    "k1 = re.search(pattern,text)\n",
    "print(k1) #returns span too"
   ]
  },
  {
   "cell_type": "code",
   "execution_count": 10,
   "metadata": {},
   "outputs": [
    {
     "name": "stdout",
     "output_type": "stream",
     "text": [
      "None\n"
     ]
    }
   ],
   "source": [
    "#case when pattern is not found\n",
    "pattern='cat'\n",
    "k2 = re.search(pattern,text) #returns None\n",
    "print(k2)"
   ]
  },
  {
   "cell_type": "markdown",
   "metadata": {},
   "source": [
    "### span( ) start( ) end( )"
   ]
  },
  {
   "cell_type": "code",
   "execution_count": 13,
   "metadata": {},
   "outputs": [
    {
     "name": "stdout",
     "output_type": "stream",
     "text": [
      "(7, 11)\n",
      "7\n",
      "11\n"
     ]
    }
   ],
   "source": [
    "print(k1.span())\n",
    "print(k1.start())\n",
    "print(k1.end())"
   ]
  },
  {
   "cell_type": "markdown",
   "metadata": {},
   "source": [
    "### findall( ) --> to find all occourance of patterns"
   ]
  },
  {
   "cell_type": "code",
   "execution_count": 15,
   "metadata": {},
   "outputs": [
    {
     "name": "stdout",
     "output_type": "stream",
     "text": [
      "<re.Match object; span=(20, 23), match='num'>\n"
     ]
    }
   ],
   "source": [
    "pattern = 'num'\n",
    "k2 = re.search(pattern,text)\n",
    "print(k2)"
   ]
  },
  {
   "cell_type": "code",
   "execution_count": 17,
   "metadata": {},
   "outputs": [
    {
     "name": "stdout",
     "output_type": "stream",
     "text": [
      "['num', 'num']\n"
     ]
    }
   ],
   "source": [
    "k2 = re.findall(pattern, text)\n",
    "print(k2)"
   ]
  },
  {
   "cell_type": "code",
   "execution_count": 19,
   "metadata": {},
   "outputs": [
    {
     "name": "stdout",
     "output_type": "stream",
     "text": [
      "<class 'list'>\n",
      "2\n"
     ]
    }
   ],
   "source": [
    "print(type(k2))\n",
    "print(len(k2))"
   ]
  },
  {
   "cell_type": "code",
   "execution_count": 20,
   "metadata": {},
   "outputs": [
    {
     "name": "stdout",
     "output_type": "stream",
     "text": [
      "<re.Match object; span=(20, 23), match='num'>\n",
      "<re.Match object; span=(51, 54), match='num'>\n"
     ]
    }
   ],
   "source": [
    "#using for loop\n",
    "for i in re.finditer(pattern,text):\n",
    "    print(i)"
   ]
  },
  {
   "cell_type": "code",
   "execution_count": 21,
   "metadata": {},
   "outputs": [
    {
     "name": "stdout",
     "output_type": "stream",
     "text": [
      "(20, 23)\n",
      "(51, 54)\n"
     ]
    }
   ],
   "source": [
    "for i in re.finditer(pattern,text):\n",
    "    print(i.span())"
   ]
  },
  {
   "cell_type": "code",
   "execution_count": 22,
   "metadata": {},
   "outputs": [
    {
     "name": "stdout",
     "output_type": "stream",
     "text": [
      "num\n",
      "num\n"
     ]
    }
   ],
   "source": [
    "for i in re.finditer(pattern,text): #return pattern that matched\n",
    "    print(i.group())"
   ]
  },
  {
   "cell_type": "markdown",
   "metadata": {},
   "source": [
    "## Regex example"
   ]
  },
  {
   "cell_type": "markdown",
   "metadata": {},
   "source": [
    "### chachacter identifier"
   ]
  },
  {
   "cell_type": "code",
   "execution_count": 27,
   "metadata": {},
   "outputs": [
    {
     "name": "stdout",
     "output_type": "stream",
     "text": [
      "<re.Match object; span=(27, 39), match='444-545-5050'>\n"
     ]
    }
   ],
   "source": [
    "text=\"hello, your agent's num is 444-545-5050, call his num soon!\"\n",
    "k3 = re.search(r'\\d\\d\\d-\\d\\d\\d-\\d\\d\\d\\d',text)\n",
    "print(k3)"
   ]
  },
  {
   "cell_type": "code",
   "execution_count": 28,
   "metadata": {},
   "outputs": [
    {
     "data": {
      "text/plain": [
       "'444-545-5050'"
      ]
     },
     "execution_count": 28,
     "metadata": {},
     "output_type": "execute_result"
    }
   ],
   "source": [
    "k3.group()"
   ]
  },
  {
   "cell_type": "markdown",
   "metadata": {},
   "source": [
    "### Quantifier"
   ]
  },
  {
   "cell_type": "code",
   "execution_count": 29,
   "metadata": {},
   "outputs": [
    {
     "name": "stdout",
     "output_type": "stream",
     "text": [
      "<re.Match object; span=(27, 39), match='444-545-5050'>\n"
     ]
    }
   ],
   "source": [
    "k4 = re.search(r'\\d{3}-\\d{3}-\\d{4}',text)\n",
    "print(k4)"
   ]
  },
  {
   "cell_type": "markdown",
   "metadata": {},
   "source": [
    "### Compile\n",
    "\n",
    "here we creating 3 groups. we can fetch each group indivisually. And grouping starts at 1 unlike python starts at 0"
   ]
  },
  {
   "cell_type": "code",
   "execution_count": 33,
   "metadata": {},
   "outputs": [
    {
     "name": "stdout",
     "output_type": "stream",
     "text": [
      "<re.Match object; span=(27, 39), match='444-545-5050'>\n"
     ]
    }
   ],
   "source": [
    "result = re.compile(r'(\\d{3})-(\\d{3})-(\\d{4})')\n",
    "k4 = re.search(result,text)\n",
    "print(k4)"
   ]
  },
  {
   "cell_type": "code",
   "execution_count": 37,
   "metadata": {},
   "outputs": [
    {
     "name": "stdout",
     "output_type": "stream",
     "text": [
      "444-545-5050\n",
      "444\n",
      "545\n"
     ]
    }
   ],
   "source": [
    "print(k4.group())\n",
    "print(k4.group(1))\n",
    "print(k4.group(2))"
   ]
  },
  {
   "cell_type": "code",
   "execution_count": null,
   "metadata": {},
   "outputs": [],
   "source": []
  }
 ],
 "metadata": {
  "kernelspec": {
   "display_name": "Python 3",
   "language": "python",
   "name": "python3"
  },
  "language_info": {
   "codemirror_mode": {
    "name": "ipython",
    "version": 3
   },
   "file_extension": ".py",
   "mimetype": "text/x-python",
   "name": "python",
   "nbconvert_exporter": "python",
   "pygments_lexer": "ipython3",
   "version": "3.7.6"
  }
 },
 "nbformat": 4,
 "nbformat_minor": 4
}
